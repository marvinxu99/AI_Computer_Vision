{
 "cells": [
  {
   "cell_type": "markdown",
   "metadata": {},
   "source": [
    "https://docs.pytorch.org/tutorials/beginner/basics/buildmodel_tutorial.html\n",
    "\n",
    "Build the Neural Network\n",
    "\n",
    "Neural networks comprise of layers/modules that perform operations on data. The torch.nn namespace provides all the building blocks you need to build your own neural network. Every module in PyTorch subclasses the nn.Module. A neural network is a module itself that consists of other modules (layers). This nested structure allows for building and managing complex architectures easily.\n",
    "\n",
    "In the following sections, we’ll build a neural network to classify images in the FashionMNIST dataset."
   ]
  },
  {
   "cell_type": "code",
   "execution_count": 1,
   "metadata": {},
   "outputs": [],
   "source": [
    "import os\n",
    "import torch\n",
    "from torch import nn\n",
    "from torch.utils.data import DataLoader\n",
    "from torchvision import datasets, transforms"
   ]
  },
  {
   "cell_type": "code",
   "execution_count": 2,
   "metadata": {},
   "outputs": [
    {
     "name": "stdout",
     "output_type": "stream",
     "text": [
      "Using cpu device\n"
     ]
    }
   ],
   "source": [
    "# Get Device for Training\n",
    "# We want to be able to train our model on an accelerator such as CUDA, MPS, MTIA, or XPU. \n",
    "# If the current accelerator is available, we will use it. Otherwise, we use the CPU.\n",
    "\n",
    "device = torch.accelerator.current_accelerator().type if torch.accelerator.is_available() else \"cpu\"\n",
    "print(f\"Using {device} device\")"
   ]
  },
  {
   "cell_type": "code",
   "execution_count": 3,
   "metadata": {},
   "outputs": [
    {
     "name": "stdout",
     "output_type": "stream",
     "text": [
      "NeuralNetwork(\n",
      "  (flatten): Flatten(start_dim=1, end_dim=-1)\n",
      "  (linear_relu_stack): Sequential(\n",
      "    (0): Linear(in_features=784, out_features=512, bias=True)\n",
      "    (1): ReLU()\n",
      "    (2): Linear(in_features=512, out_features=512, bias=True)\n",
      "    (3): ReLU()\n",
      "    (4): Linear(in_features=512, out_features=10, bias=True)\n",
      "  )\n",
      ")\n"
     ]
    }
   ],
   "source": [
    "# Define the Class\n",
    "# We define our neural network by subclassing nn.Module, and initialize the neural network layers in __init__. \n",
    "# Every nn.Module subclass implements the operations on input data in the forward method.\n",
    "\n",
    "class NeuralNetwork(nn.Module):\n",
    "    def __init__(self):\n",
    "        super().__init__()\n",
    "        self.flatten = nn.Flatten()\n",
    "        self.linear_relu_stack = nn.Sequential(\n",
    "            nn.Linear(28*28, 512),\n",
    "            nn.ReLU(),                 # Rectified Linear Unit\n",
    "            nn.Linear(512, 512),\n",
    "            nn.ReLU(),\n",
    "            nn.Linear(512, 10),\n",
    "        )\n",
    "\n",
    "    def forward(self, x):\n",
    "        x = self.flatten(x)\n",
    "        logits = self.linear_relu_stack(x)\n",
    "        return logits\n",
    "\n",
    "# We create an instance of NeuralNetwork, and move it to the device, and print its structure.\n",
    "\n",
    "model = NeuralNetwork().to(device)\n",
    "print(model)"
   ]
  },
  {
   "cell_type": "code",
   "execution_count": 4,
   "metadata": {},
   "outputs": [
    {
     "name": "stdout",
     "output_type": "stream",
     "text": [
      "Predicted class: tensor([7])\n"
     ]
    }
   ],
   "source": [
    "# To use the model, we pass it the input data. This executes the model’s forward, along with some background operations. \n",
    "# Do not call model.forward() directly!\n",
    "\n",
    "# Calling the model on the input returns a 2-dimensional tensor with dim=0 corresponding to each output of 10 raw predicted \n",
    "# values for each class, and dim=1 corresponding to the individual values of each output. \n",
    "# We get the prediction probabilities by passing it through an instance of the nn.Softmax module.\n",
    "\n",
    "X = torch.rand(1, 28, 28, device=device)\n",
    "logits = model(X)\n",
    "pred_probab = nn.Softmax(dim=1)(logits)\n",
    "y_pred = pred_probab.argmax(1)\n",
    "print(f\"Predicted class: {y_pred}\")"
   ]
  },
  {
   "cell_type": "code",
   "execution_count": 5,
   "metadata": {},
   "outputs": [
    {
     "name": "stdout",
     "output_type": "stream",
     "text": [
      "torch.Size([3, 28, 28])\n"
     ]
    }
   ],
   "source": [
    "# Model Layers\n",
    "# Let’s break down the layers in the FashionMNIST model. \n",
    "# To illustrate it, we will take a sample minibatch of 3 images of size 28x28 and see what happens to it as we pass it through the network.\n",
    "\n",
    "input_image = torch.rand(3,28,28)\n",
    "print(input_image.size())"
   ]
  },
  {
   "cell_type": "code",
   "execution_count": 6,
   "metadata": {},
   "outputs": [
    {
     "name": "stdout",
     "output_type": "stream",
     "text": [
      "torch.Size([3, 784])\n"
     ]
    }
   ],
   "source": [
    "# nn.Flatten\n",
    "# We initialize the nn.Flatten layer to convert each 2D 28x28 image into a contiguous \n",
    "# array of 784 pixel values ( the minibatch dimension (at dim=0) is maintained).\n",
    "\n",
    "flatten = nn.Flatten()\n",
    "flat_image = flatten(input_image)     # This reshapes each image from [28, 28] into [784]\n",
    "print(flat_image.size())"
   ]
  },
  {
   "cell_type": "code",
   "execution_count": 7,
   "metadata": {},
   "outputs": [
    {
     "name": "stdout",
     "output_type": "stream",
     "text": [
      "torch.Size([3, 20])\n"
     ]
    }
   ],
   "source": [
    "# nn.Linear\n",
    "# The linear layer is a module that applies a linear transformation on the input using its stored weights and biases.\n",
    "\n",
    "layer1 = nn.Linear(in_features=28*28, out_features=20)\n",
    "hidden1 = layer1(flat_image)\n",
    "print(hidden1.size())"
   ]
  },
  {
   "cell_type": "code",
   "execution_count": 8,
   "metadata": {},
   "outputs": [
    {
     "name": "stdout",
     "output_type": "stream",
     "text": [
      "Before ReLU: tensor([[-0.1557, -0.0477, -0.3675,  0.2467,  0.0627,  0.3779,  0.2151, -0.0777,\n",
      "         -0.3403, -0.4098,  0.2680,  0.1332, -0.1248,  0.3162, -0.3490,  0.4881,\n",
      "          0.1806, -0.5445,  0.1760,  0.2466],\n",
      "        [-0.1710,  0.1124,  0.1547,  0.3035,  0.2247,  0.3726,  0.2344, -0.2395,\n",
      "         -0.2020, -0.4775, -0.4473,  0.2667, -0.3255,  0.5978, -0.3558,  0.3728,\n",
      "          0.1433, -0.3998,  0.3591,  0.2287],\n",
      "        [-0.4777,  0.5368, -0.5133,  0.6519,  0.1419,  0.3453,  0.0216,  0.1967,\n",
      "         -0.2563, -0.3045, -0.5791,  0.0743, -0.1868,  0.5448,  0.1124,  0.6200,\n",
      "          0.0428, -0.2521,  0.4924,  0.2079]], grad_fn=<AddmmBackward0>)\n",
      "\n",
      "\n",
      "After ReLU: tensor([[0.0000, 0.0000, 0.0000, 0.2467, 0.0627, 0.3779, 0.2151, 0.0000, 0.0000,\n",
      "         0.0000, 0.2680, 0.1332, 0.0000, 0.3162, 0.0000, 0.4881, 0.1806, 0.0000,\n",
      "         0.1760, 0.2466],\n",
      "        [0.0000, 0.1124, 0.1547, 0.3035, 0.2247, 0.3726, 0.2344, 0.0000, 0.0000,\n",
      "         0.0000, 0.0000, 0.2667, 0.0000, 0.5978, 0.0000, 0.3728, 0.1433, 0.0000,\n",
      "         0.3591, 0.2287],\n",
      "        [0.0000, 0.5368, 0.0000, 0.6519, 0.1419, 0.3453, 0.0216, 0.1967, 0.0000,\n",
      "         0.0000, 0.0000, 0.0743, 0.0000, 0.5448, 0.1124, 0.6200, 0.0428, 0.0000,\n",
      "         0.4924, 0.2079]], grad_fn=<ReluBackward0>)\n"
     ]
    }
   ],
   "source": [
    "# nn.ReLU\n",
    "# Non-linear activations are what create the complex mappings between the model’s inputs and outputs. \n",
    "# They are applied after linear transformations to introduce nonlinearity, helping neural networks learn a wide variety of phenomena.\n",
    "\n",
    "# In this model, we use nn.ReLU between our linear layers, but there’s other activations to introduce non-linearity in your model.\n",
    "\n",
    "# Applies ReLU activation elementwise:\n",
    "#   Negative values → 0.\n",
    "#   Positive values stay.\n",
    "#   Shape remains [3, 20].\n",
    "\n",
    "print(f\"Before ReLU: {hidden1}\\n\\n\")\n",
    "hidden1 = nn.ReLU()(hidden1)\n",
    "print(f\"After ReLU: {hidden1}\")\n"
   ]
  },
  {
   "cell_type": "code",
   "execution_count": 11,
   "metadata": {},
   "outputs": [
    {
     "name": "stdout",
     "output_type": "stream",
     "text": [
      "torch.Size([3, 28, 28])\n",
      "torch.Size([3, 10])\n"
     ]
    }
   ],
   "source": [
    "# nn.Sequential\n",
    "# nn.Sequential is an ordered container of modules. The data is passed through all the modules in the same order as defined. \n",
    "# You can use sequential containers to put together a quick network like seq_modules.\n",
    "seq_modules = nn.Sequential(\n",
    "    flatten,\n",
    "    layer1,\n",
    "    nn.ReLU(),\n",
    "    nn.Linear(20, 10)\n",
    ")\n",
    "input_image = torch.rand(3,28,28)  \n",
    "print(input_image.shape)             # torch.Size([3, 28, 28]) - This is like 3 grayscale images of size 28×28.\n",
    "logits = seq_modules(input_image)    # logits = The raw, unnormalized outputs of a model before they are converted to probabilities. \n",
    "print(logits.shape)"
   ]
  },
  {
   "cell_type": "code",
   "execution_count": 12,
   "metadata": {},
   "outputs": [],
   "source": [
    "# nn.Softmax\n",
    "# The last linear layer of the neural network returns logits - raw values in [-infty, infty] - which are passed to the nn.Softmax module. \n",
    "# The logits are scaled to values [0, 1] representing the model’s predicted probabilities for each class. \n",
    "# dim parameter indicates the dimension along which the values must sum to 1.\n",
    "\n",
    "softmax = nn.Softmax(dim=1)\n",
    "pred_probab = softmax(logits)\n"
   ]
  },
  {
   "cell_type": "code",
   "execution_count": 13,
   "metadata": {},
   "outputs": [
    {
     "name": "stdout",
     "output_type": "stream",
     "text": [
      "Model structure: NeuralNetwork(\n",
      "  (flatten): Flatten(start_dim=1, end_dim=-1)\n",
      "  (linear_relu_stack): Sequential(\n",
      "    (0): Linear(in_features=784, out_features=512, bias=True)\n",
      "    (1): ReLU()\n",
      "    (2): Linear(in_features=512, out_features=512, bias=True)\n",
      "    (3): ReLU()\n",
      "    (4): Linear(in_features=512, out_features=10, bias=True)\n",
      "  )\n",
      ")\n",
      "\n",
      "\n",
      "Layer: linear_relu_stack.0.weight | Size: torch.Size([512, 784]) | Values : tensor([[ 0.0231, -0.0106, -0.0268,  ...,  0.0003,  0.0311,  0.0315],\n",
      "        [-0.0062,  0.0056,  0.0084,  ...,  0.0010, -0.0021,  0.0082]],\n",
      "       grad_fn=<SliceBackward0>) \n",
      "\n",
      "Layer: linear_relu_stack.0.bias | Size: torch.Size([512]) | Values : tensor([-0.0166, -0.0126], grad_fn=<SliceBackward0>) \n",
      "\n",
      "Layer: linear_relu_stack.2.weight | Size: torch.Size([512, 512]) | Values : tensor([[ 0.0094, -0.0435,  0.0307,  ..., -0.0407, -0.0278, -0.0248],\n",
      "        [ 0.0102,  0.0395, -0.0337,  ..., -0.0191,  0.0397, -0.0436]],\n",
      "       grad_fn=<SliceBackward0>) \n",
      "\n",
      "Layer: linear_relu_stack.2.bias | Size: torch.Size([512]) | Values : tensor([ 0.0104, -0.0122], grad_fn=<SliceBackward0>) \n",
      "\n",
      "Layer: linear_relu_stack.4.weight | Size: torch.Size([10, 512]) | Values : tensor([[ 0.0415,  0.0188, -0.0363,  ...,  0.0099, -0.0434, -0.0427],\n",
      "        [-0.0301, -0.0277,  0.0164,  ...,  0.0314, -0.0083, -0.0081]],\n",
      "       grad_fn=<SliceBackward0>) \n",
      "\n",
      "Layer: linear_relu_stack.4.bias | Size: torch.Size([10]) | Values : tensor([-0.0014, -0.0156], grad_fn=<SliceBackward0>) \n",
      "\n"
     ]
    }
   ],
   "source": [
    "# Model Parameters\n",
    "# Many layers inside a neural network are parameterized, i.e. have associated weights and biases that are optimized during training. \n",
    "# Subclassing nn.Module automatically tracks all fields defined inside your model object, and makes all parameters \n",
    "# accessible using your model’s parameters() or named_parameters() methods.\n",
    "\n",
    "# In this example, we iterate over each parameter, and print its size and a preview of its values.\n",
    "\n",
    "print(f\"Model structure: {model}\\n\\n\")\n",
    "\n",
    "for name, param in model.named_parameters():\n",
    "    print(f\"Layer: {name} | Size: {param.size()} | Values : {param[:2]} \\n\")"
   ]
  },
  {
   "cell_type": "code",
   "execution_count": 14,
   "metadata": {},
   "outputs": [
    {
     "name": "stdout",
     "output_type": "stream",
     "text": [
      "Total params: 669,706 | Trainable: 669,706\n",
      "linear_relu_stack.0.weight          | shape=(512, 784) | mean=-0.0000 | std=+0.0206\n",
      "linear_relu_stack.0.bias            | shape=(512,) | mean=+0.0002 | std=+0.0212\n",
      "linear_relu_stack.2.weight          | shape=(512, 512) | mean=+0.0000 | std=+0.0255\n",
      "linear_relu_stack.2.bias            | shape=(512,) | mean=+0.0005 | std=+0.0266\n",
      "linear_relu_stack.4.weight          | shape=(10, 512) | mean=+0.0008 | std=+0.0253\n",
      "linear_relu_stack.4.bias            | shape=(10,) | mean=-0.0042 | std=+0.0257\n"
     ]
    }
   ],
   "source": [
    "import torch\n",
    "from torch import nn\n",
    "\n",
    "model = NeuralNetwork()  # your class\n",
    "\n",
    "# Count params\n",
    "total = sum(p.numel() for p in model.parameters())\n",
    "trainable = sum(p.numel() for p in model.parameters() if p.requires_grad)\n",
    "print(f\"Total params: {total:,} | Trainable: {trainable:,}\")\n",
    "\n",
    "# Per-layer stats (mean/std) without breaking autograd\n",
    "with torch.no_grad():\n",
    "    for name, p in model.named_parameters():\n",
    "        print(f\"{name:35s} | shape={tuple(p.shape)} | mean={p.mean():+.4f} | std={p.std():+.4f}\")\n"
   ]
  }
 ],
 "metadata": {
  "kernelspec": {
   "display_name": "venv",
   "language": "python",
   "name": "python3"
  },
  "language_info": {
   "codemirror_mode": {
    "name": "ipython",
    "version": 3
   },
   "file_extension": ".py",
   "mimetype": "text/x-python",
   "name": "python",
   "nbconvert_exporter": "python",
   "pygments_lexer": "ipython3",
   "version": "3.12.6"
  }
 },
 "nbformat": 4,
 "nbformat_minor": 2
}
